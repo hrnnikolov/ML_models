{
  "nbformat": 4,
  "nbformat_minor": 0,
  "metadata": {
    "colab": {
      "provenance": [],
      "authorship_tag": "ABX9TyNVZDSRlqaxVkCpb9x5fK60",
      "include_colab_link": true
    },
    "kernelspec": {
      "name": "python3",
      "display_name": "Python 3"
    },
    "language_info": {
      "name": "python"
    }
  },
  "cells": [
    {
      "cell_type": "markdown",
      "metadata": {
        "id": "view-in-github",
        "colab_type": "text"
      },
      "source": [
        "<a href=\"https://colab.research.google.com/github/hrnnikolov/ML_models/blob/main/predict_market_price/Predicting_market_price.ipynb\" target=\"_parent\"><img src=\"https://colab.research.google.com/assets/colab-badge.svg\" alt=\"Open In Colab\"/></a>"
      ]
    },
    {
      "cell_type": "code",
      "execution_count": 3,
      "metadata": {
        "id": "yERDJpdqnON7"
      },
      "outputs": [],
      "source": [
        "import numpy as np\n",
        "import matplotlib.pyplot as plt\n",
        "import pandas as pd\n",
        "import yfinance as yf\n",
        "import pandas_ta as ta"
      ]
    },
    {
      "cell_type": "code",
      "source": [
        "data = yf.download(tickers = '^RUI', start = '2012-03-11', end = '2022-07-10')\n",
        "data.head"
      ],
      "metadata": {
        "colab": {
          "base_uri": "https://localhost:8080/"
        },
        "id": "aFu31DU3ncmT",
        "outputId": "2ad5f8c3-13fd-422a-837f-67c8e29204be"
      },
      "execution_count": 4,
      "outputs": [
        {
          "output_type": "stream",
          "name": "stdout",
          "text": [
            "\r[*********************100%%**********************]  1 of 1 completed\n"
          ]
        },
        {
          "output_type": "execute_result",
          "data": {
            "text/plain": [
              "<bound method NDFrame.head of                    Open         High          Low        Close    Adj Close  \\\n",
              "Date                                                                          \n",
              "2012-03-12   759.429993   760.619995   756.840027   759.130005   759.130005   \n",
              "2012-03-13   761.450012   773.030029   761.450012   772.979980   772.979980   \n",
              "2012-03-14   773.190002   774.679993   769.280029   771.630005   771.630005   \n",
              "2012-03-15   772.380005   776.469971   770.739990   776.419983   776.419983   \n",
              "2012-03-16   776.559998   778.099976   775.640015   777.130005   777.130005   \n",
              "...                 ...          ...          ...          ...          ...   \n",
              "2022-07-01  2075.000000  2101.600098  2059.290039  2099.540039  2099.540039   \n",
              "2022-07-05  2092.550049  2106.070068  2053.879883  2105.659912  2105.659912   \n",
              "2022-07-06  2106.159912  2124.419922  2091.699951  2110.409912  2110.409912   \n",
              "2022-07-07  2115.949951  2148.350098  2115.949951  2144.300049  2144.300049   \n",
              "2022-07-08  2141.189941  2152.739990  2124.989990  2141.689941  2141.689941   \n",
              "\n",
              "            Volume  \n",
              "Date                \n",
              "2012-03-12       0  \n",
              "2012-03-13       0  \n",
              "2012-03-14       0  \n",
              "2012-03-15       0  \n",
              "2012-03-16       0  \n",
              "...            ...  \n",
              "2022-07-01       0  \n",
              "2022-07-05       0  \n",
              "2022-07-06       0  \n",
              "2022-07-07       0  \n",
              "2022-07-08       0  \n",
              "\n",
              "[2598 rows x 6 columns]>"
            ]
          },
          "metadata": {},
          "execution_count": 4
        }
      ]
    },
    {
      "cell_type": "code",
      "source": [
        "data['RSI'] = ta.rsi(data.Close, length=15)\n",
        "data['EMAF'] = ta.ema(data.Close, length=20)\n",
        "data['EMAM '] = ta.ema(data.Close, length=100)\n",
        "data['EMAS '] = ta.ema(data.Close, length=150)\n",
        "\n",
        "data['Target'] = data['Adj Close'] - data.Open\n",
        "data['Target'] = data['Target'].shift(-1)\n",
        "\n",
        "data['TargetClass'] = [1 if data.Target[i]>0 else 0 for i in range(len(data))]\n",
        "\n",
        "data['TargetNextClose'] = data['Adj Close'].shift(-1)\n",
        "\n",
        "data.dropna(inplace=True)\n",
        "data.reset_index(inplace=True)\n",
        "data.drop(['Volume', 'Close', 'Date'], axis=1, inplace=True)"
      ],
      "metadata": {
        "id": "099hwdADnlIX"
      },
      "execution_count": 5,
      "outputs": []
    },
    {
      "cell_type": "code",
      "source": [
        "data_set = data.iloc[:,0:11]\n",
        "pd.set_option('display.max_columns', None)\n",
        "\n",
        "data_set.head()"
      ],
      "metadata": {
        "colab": {
          "base_uri": "https://localhost:8080/",
          "height": 206
        },
        "id": "A5SeWgpnpL9Z",
        "outputId": "d3a1b637-ab23-439f-94d6-41861d9e9897"
      },
      "execution_count": 6,
      "outputs": [
        {
          "output_type": "execute_result",
          "data": {
            "text/plain": [
              "         Open        High         Low   Adj Close        RSI        EMAF  \\\n",
              "0  791.440002  795.679993  789.760010  789.760010  46.877256  795.406526   \n",
              "1  789.869995  792.669983  785.640015  787.179993  44.575540  794.623046   \n",
              "2  787.179993  794.020020  786.260010  793.440002  50.849388  794.510376   \n",
              "3  794.580017  801.859985  794.580017  801.599976  57.558969  795.185576   \n",
              "4  800.669983  805.770020  800.669983  805.039978  60.023875  796.124090   \n",
              "\n",
              "        EMAM        EMAS     Target  TargetClass  TargetNextClose  \n",
              "0  775.179523  762.677734 -2.690002            0       787.179993  \n",
              "1  775.417156  763.002267  6.260010            1       793.440002  \n",
              "2  775.774044  763.405416  7.019958            1       801.599976  \n",
              "3  776.285448  763.911304  4.369995            1       805.039978  \n",
              "4  776.854845  764.456055 -0.809998            0       803.330017  "
            ],
            "text/html": [
              "\n",
              "  <div id=\"df-e154f6e2-9a84-4c3a-9379-836f0292588b\" class=\"colab-df-container\">\n",
              "    <div>\n",
              "<style scoped>\n",
              "    .dataframe tbody tr th:only-of-type {\n",
              "        vertical-align: middle;\n",
              "    }\n",
              "\n",
              "    .dataframe tbody tr th {\n",
              "        vertical-align: top;\n",
              "    }\n",
              "\n",
              "    .dataframe thead th {\n",
              "        text-align: right;\n",
              "    }\n",
              "</style>\n",
              "<table border=\"1\" class=\"dataframe\">\n",
              "  <thead>\n",
              "    <tr style=\"text-align: right;\">\n",
              "      <th></th>\n",
              "      <th>Open</th>\n",
              "      <th>High</th>\n",
              "      <th>Low</th>\n",
              "      <th>Adj Close</th>\n",
              "      <th>RSI</th>\n",
              "      <th>EMAF</th>\n",
              "      <th>EMAM</th>\n",
              "      <th>EMAS</th>\n",
              "      <th>Target</th>\n",
              "      <th>TargetClass</th>\n",
              "      <th>TargetNextClose</th>\n",
              "    </tr>\n",
              "  </thead>\n",
              "  <tbody>\n",
              "    <tr>\n",
              "      <th>0</th>\n",
              "      <td>791.440002</td>\n",
              "      <td>795.679993</td>\n",
              "      <td>789.760010</td>\n",
              "      <td>789.760010</td>\n",
              "      <td>46.877256</td>\n",
              "      <td>795.406526</td>\n",
              "      <td>775.179523</td>\n",
              "      <td>762.677734</td>\n",
              "      <td>-2.690002</td>\n",
              "      <td>0</td>\n",
              "      <td>787.179993</td>\n",
              "    </tr>\n",
              "    <tr>\n",
              "      <th>1</th>\n",
              "      <td>789.869995</td>\n",
              "      <td>792.669983</td>\n",
              "      <td>785.640015</td>\n",
              "      <td>787.179993</td>\n",
              "      <td>44.575540</td>\n",
              "      <td>794.623046</td>\n",
              "      <td>775.417156</td>\n",
              "      <td>763.002267</td>\n",
              "      <td>6.260010</td>\n",
              "      <td>1</td>\n",
              "      <td>793.440002</td>\n",
              "    </tr>\n",
              "    <tr>\n",
              "      <th>2</th>\n",
              "      <td>787.179993</td>\n",
              "      <td>794.020020</td>\n",
              "      <td>786.260010</td>\n",
              "      <td>793.440002</td>\n",
              "      <td>50.849388</td>\n",
              "      <td>794.510376</td>\n",
              "      <td>775.774044</td>\n",
              "      <td>763.405416</td>\n",
              "      <td>7.019958</td>\n",
              "      <td>1</td>\n",
              "      <td>801.599976</td>\n",
              "    </tr>\n",
              "    <tr>\n",
              "      <th>3</th>\n",
              "      <td>794.580017</td>\n",
              "      <td>801.859985</td>\n",
              "      <td>794.580017</td>\n",
              "      <td>801.599976</td>\n",
              "      <td>57.558969</td>\n",
              "      <td>795.185576</td>\n",
              "      <td>776.285448</td>\n",
              "      <td>763.911304</td>\n",
              "      <td>4.369995</td>\n",
              "      <td>1</td>\n",
              "      <td>805.039978</td>\n",
              "    </tr>\n",
              "    <tr>\n",
              "      <th>4</th>\n",
              "      <td>800.669983</td>\n",
              "      <td>805.770020</td>\n",
              "      <td>800.669983</td>\n",
              "      <td>805.039978</td>\n",
              "      <td>60.023875</td>\n",
              "      <td>796.124090</td>\n",
              "      <td>776.854845</td>\n",
              "      <td>764.456055</td>\n",
              "      <td>-0.809998</td>\n",
              "      <td>0</td>\n",
              "      <td>803.330017</td>\n",
              "    </tr>\n",
              "  </tbody>\n",
              "</table>\n",
              "</div>\n",
              "    <div class=\"colab-df-buttons\">\n",
              "\n",
              "  <div class=\"colab-df-container\">\n",
              "    <button class=\"colab-df-convert\" onclick=\"convertToInteractive('df-e154f6e2-9a84-4c3a-9379-836f0292588b')\"\n",
              "            title=\"Convert this dataframe to an interactive table.\"\n",
              "            style=\"display:none;\">\n",
              "\n",
              "  <svg xmlns=\"http://www.w3.org/2000/svg\" height=\"24px\" viewBox=\"0 -960 960 960\">\n",
              "    <path d=\"M120-120v-720h720v720H120Zm60-500h600v-160H180v160Zm220 220h160v-160H400v160Zm0 220h160v-160H400v160ZM180-400h160v-160H180v160Zm440 0h160v-160H620v160ZM180-180h160v-160H180v160Zm440 0h160v-160H620v160Z\"/>\n",
              "  </svg>\n",
              "    </button>\n",
              "\n",
              "  <style>\n",
              "    .colab-df-container {\n",
              "      display:flex;\n",
              "      gap: 12px;\n",
              "    }\n",
              "\n",
              "    .colab-df-convert {\n",
              "      background-color: #E8F0FE;\n",
              "      border: none;\n",
              "      border-radius: 50%;\n",
              "      cursor: pointer;\n",
              "      display: none;\n",
              "      fill: #1967D2;\n",
              "      height: 32px;\n",
              "      padding: 0 0 0 0;\n",
              "      width: 32px;\n",
              "    }\n",
              "\n",
              "    .colab-df-convert:hover {\n",
              "      background-color: #E2EBFA;\n",
              "      box-shadow: 0px 1px 2px rgba(60, 64, 67, 0.3), 0px 1px 3px 1px rgba(60, 64, 67, 0.15);\n",
              "      fill: #174EA6;\n",
              "    }\n",
              "\n",
              "    .colab-df-buttons div {\n",
              "      margin-bottom: 4px;\n",
              "    }\n",
              "\n",
              "    [theme=dark] .colab-df-convert {\n",
              "      background-color: #3B4455;\n",
              "      fill: #D2E3FC;\n",
              "    }\n",
              "\n",
              "    [theme=dark] .colab-df-convert:hover {\n",
              "      background-color: #434B5C;\n",
              "      box-shadow: 0px 1px 3px 1px rgba(0, 0, 0, 0.15);\n",
              "      filter: drop-shadow(0px 1px 2px rgba(0, 0, 0, 0.3));\n",
              "      fill: #FFFFFF;\n",
              "    }\n",
              "  </style>\n",
              "\n",
              "    <script>\n",
              "      const buttonEl =\n",
              "        document.querySelector('#df-e154f6e2-9a84-4c3a-9379-836f0292588b button.colab-df-convert');\n",
              "      buttonEl.style.display =\n",
              "        google.colab.kernel.accessAllowed ? 'block' : 'none';\n",
              "\n",
              "      async function convertToInteractive(key) {\n",
              "        const element = document.querySelector('#df-e154f6e2-9a84-4c3a-9379-836f0292588b');\n",
              "        const dataTable =\n",
              "          await google.colab.kernel.invokeFunction('convertToInteractive',\n",
              "                                                    [key], {});\n",
              "        if (!dataTable) return;\n",
              "\n",
              "        const docLinkHtml = 'Like what you see? Visit the ' +\n",
              "          '<a target=\"_blank\" href=https://colab.research.google.com/notebooks/data_table.ipynb>data table notebook</a>'\n",
              "          + ' to learn more about interactive tables.';\n",
              "        element.innerHTML = '';\n",
              "        dataTable['output_type'] = 'display_data';\n",
              "        await google.colab.output.renderOutput(dataTable, element);\n",
              "        const docLink = document.createElement('div');\n",
              "        docLink.innerHTML = docLinkHtml;\n",
              "        element.appendChild(docLink);\n",
              "      }\n",
              "    </script>\n",
              "  </div>\n",
              "\n",
              "\n",
              "<div id=\"df-2c01f58a-0965-4cf2-a398-f49734a67c4d\">\n",
              "  <button class=\"colab-df-quickchart\" onclick=\"quickchart('df-2c01f58a-0965-4cf2-a398-f49734a67c4d')\"\n",
              "            title=\"Suggest charts\"\n",
              "            style=\"display:none;\">\n",
              "\n",
              "<svg xmlns=\"http://www.w3.org/2000/svg\" height=\"24px\"viewBox=\"0 0 24 24\"\n",
              "     width=\"24px\">\n",
              "    <g>\n",
              "        <path d=\"M19 3H5c-1.1 0-2 .9-2 2v14c0 1.1.9 2 2 2h14c1.1 0 2-.9 2-2V5c0-1.1-.9-2-2-2zM9 17H7v-7h2v7zm4 0h-2V7h2v10zm4 0h-2v-4h2v4z\"/>\n",
              "    </g>\n",
              "</svg>\n",
              "  </button>\n",
              "\n",
              "<style>\n",
              "  .colab-df-quickchart {\n",
              "      --bg-color: #E8F0FE;\n",
              "      --fill-color: #1967D2;\n",
              "      --hover-bg-color: #E2EBFA;\n",
              "      --hover-fill-color: #174EA6;\n",
              "      --disabled-fill-color: #AAA;\n",
              "      --disabled-bg-color: #DDD;\n",
              "  }\n",
              "\n",
              "  [theme=dark] .colab-df-quickchart {\n",
              "      --bg-color: #3B4455;\n",
              "      --fill-color: #D2E3FC;\n",
              "      --hover-bg-color: #434B5C;\n",
              "      --hover-fill-color: #FFFFFF;\n",
              "      --disabled-bg-color: #3B4455;\n",
              "      --disabled-fill-color: #666;\n",
              "  }\n",
              "\n",
              "  .colab-df-quickchart {\n",
              "    background-color: var(--bg-color);\n",
              "    border: none;\n",
              "    border-radius: 50%;\n",
              "    cursor: pointer;\n",
              "    display: none;\n",
              "    fill: var(--fill-color);\n",
              "    height: 32px;\n",
              "    padding: 0;\n",
              "    width: 32px;\n",
              "  }\n",
              "\n",
              "  .colab-df-quickchart:hover {\n",
              "    background-color: var(--hover-bg-color);\n",
              "    box-shadow: 0 1px 2px rgba(60, 64, 67, 0.3), 0 1px 3px 1px rgba(60, 64, 67, 0.15);\n",
              "    fill: var(--button-hover-fill-color);\n",
              "  }\n",
              "\n",
              "  .colab-df-quickchart-complete:disabled,\n",
              "  .colab-df-quickchart-complete:disabled:hover {\n",
              "    background-color: var(--disabled-bg-color);\n",
              "    fill: var(--disabled-fill-color);\n",
              "    box-shadow: none;\n",
              "  }\n",
              "\n",
              "  .colab-df-spinner {\n",
              "    border: 2px solid var(--fill-color);\n",
              "    border-color: transparent;\n",
              "    border-bottom-color: var(--fill-color);\n",
              "    animation:\n",
              "      spin 1s steps(1) infinite;\n",
              "  }\n",
              "\n",
              "  @keyframes spin {\n",
              "    0% {\n",
              "      border-color: transparent;\n",
              "      border-bottom-color: var(--fill-color);\n",
              "      border-left-color: var(--fill-color);\n",
              "    }\n",
              "    20% {\n",
              "      border-color: transparent;\n",
              "      border-left-color: var(--fill-color);\n",
              "      border-top-color: var(--fill-color);\n",
              "    }\n",
              "    30% {\n",
              "      border-color: transparent;\n",
              "      border-left-color: var(--fill-color);\n",
              "      border-top-color: var(--fill-color);\n",
              "      border-right-color: var(--fill-color);\n",
              "    }\n",
              "    40% {\n",
              "      border-color: transparent;\n",
              "      border-right-color: var(--fill-color);\n",
              "      border-top-color: var(--fill-color);\n",
              "    }\n",
              "    60% {\n",
              "      border-color: transparent;\n",
              "      border-right-color: var(--fill-color);\n",
              "    }\n",
              "    80% {\n",
              "      border-color: transparent;\n",
              "      border-right-color: var(--fill-color);\n",
              "      border-bottom-color: var(--fill-color);\n",
              "    }\n",
              "    90% {\n",
              "      border-color: transparent;\n",
              "      border-bottom-color: var(--fill-color);\n",
              "    }\n",
              "  }\n",
              "</style>\n",
              "\n",
              "  <script>\n",
              "    async function quickchart(key) {\n",
              "      const quickchartButtonEl =\n",
              "        document.querySelector('#' + key + ' button');\n",
              "      quickchartButtonEl.disabled = true;  // To prevent multiple clicks.\n",
              "      quickchartButtonEl.classList.add('colab-df-spinner');\n",
              "      try {\n",
              "        const charts = await google.colab.kernel.invokeFunction(\n",
              "            'suggestCharts', [key], {});\n",
              "      } catch (error) {\n",
              "        console.error('Error during call to suggestCharts:', error);\n",
              "      }\n",
              "      quickchartButtonEl.classList.remove('colab-df-spinner');\n",
              "      quickchartButtonEl.classList.add('colab-df-quickchart-complete');\n",
              "    }\n",
              "    (() => {\n",
              "      let quickchartButtonEl =\n",
              "        document.querySelector('#df-2c01f58a-0965-4cf2-a398-f49734a67c4d button');\n",
              "      quickchartButtonEl.style.display =\n",
              "        google.colab.kernel.accessAllowed ? 'block' : 'none';\n",
              "    })();\n",
              "  </script>\n",
              "</div>\n",
              "    </div>\n",
              "  </div>\n"
            ]
          },
          "metadata": {},
          "execution_count": 6
        }
      ]
    },
    {
      "cell_type": "code",
      "source": [
        "from sklearn.preprocessing import MinMaxScaler\n",
        "sc = MinMaxScaler(feature_range=(0,1))\n",
        "data_set_scaled = sc.fit_transform(data_set)\n",
        "data_set_scaled"
      ],
      "metadata": {
        "colab": {
          "base_uri": "https://localhost:8080/"
        },
        "id": "KmI0UraWpkqm",
        "outputId": "5bf0ea4b-31b0-41bf-ca11-1a7928c15163"
      },
      "execution_count": 7,
      "outputs": [
        {
          "output_type": "execute_result",
          "data": {
            "text/plain": [
              "array([[0.02295817, 0.02294337, 0.02477161, ..., 0.61254467, 0.        ,\n",
              "        0.02075971],\n",
              "       [0.02213767, 0.02137597, 0.02261574, ..., 0.64462357, 1.        ,\n",
              "        0.02403152],\n",
              "       [0.02073185, 0.02207898, 0.02294016, ..., 0.6473474 , 1.        ,\n",
              "        0.02829634],\n",
              "       ...,\n",
              "       [0.70292872, 0.70530315, 0.68624737, ..., 0.63741923, 1.        ,\n",
              "        0.71234811],\n",
              "       [0.71004135, 0.71485848, 0.70603747, ..., 0.72379951, 1.        ,\n",
              "        0.73006085],\n",
              "       [0.7151577 , 0.72731964, 0.71872676, ..., 0.62397837, 1.        ,\n",
              "        0.72869667]])"
            ]
          },
          "metadata": {},
          "execution_count": 7
        }
      ]
    },
    {
      "cell_type": "code",
      "source": [
        "X = []\n",
        "\n",
        "backandles = 30\n",
        "print(data_set_scaled.shape[0])\n",
        "for j in range(8):\n",
        "  X.append([])\n",
        "  for i in range(backandles, data_set_scaled.shape[0]):\n",
        "    X[j].append(data_set_scaled[i-backandles:i, j])\n",
        "\n",
        "X=np.moveaxis(X, [0], [2])\n",
        "\n",
        "X, yi = np.array(X), np.array(data_set_scaled[backandles:, -1])\n",
        "y=np.reshape(yi, (len(yi),1))"
      ],
      "metadata": {
        "colab": {
          "base_uri": "https://localhost:8080/"
        },
        "id": "m27FX5-Dp_2B",
        "outputId": "a71fb25a-3ac1-407d-87f4-bbdd81552517"
      },
      "execution_count": 9,
      "outputs": [
        {
          "output_type": "stream",
          "name": "stdout",
          "text": [
            "2448\n"
          ]
        }
      ]
    },
    {
      "cell_type": "code",
      "source": [
        "X.shape"
      ],
      "metadata": {
        "colab": {
          "base_uri": "https://localhost:8080/"
        },
        "id": "bBzflRl6sEZw",
        "outputId": "bbcaa766-a03a-4f11-cdc0-c8bf762df7d9"
      },
      "execution_count": 10,
      "outputs": [
        {
          "output_type": "execute_result",
          "data": {
            "text/plain": [
              "(2418, 30, 8)"
            ]
          },
          "metadata": {},
          "execution_count": 10
        }
      ]
    },
    {
      "cell_type": "code",
      "source": [
        "y.shape"
      ],
      "metadata": {
        "colab": {
          "base_uri": "https://localhost:8080/"
        },
        "id": "dlw1T6rxsULG",
        "outputId": "51438bbe-760b-4e5c-903d-a2a27a80ab5a"
      },
      "execution_count": 11,
      "outputs": [
        {
          "output_type": "execute_result",
          "data": {
            "text/plain": [
              "(2418, 1)"
            ]
          },
          "metadata": {},
          "execution_count": 11
        }
      ]
    },
    {
      "cell_type": "code",
      "source": [
        "from sklearn.model_selection import train_test_split\n",
        "X_train, X_test, y_train, y_test = train_test_split(X, y, test_size=0.2)"
      ],
      "metadata": {
        "id": "rgkVwdLMsV92"
      },
      "execution_count": 18,
      "outputs": []
    },
    {
      "cell_type": "code",
      "source": [
        "X_train.shape"
      ],
      "metadata": {
        "colab": {
          "base_uri": "https://localhost:8080/"
        },
        "id": "0Df65LlAtloE",
        "outputId": "49e53fc4-164a-45e5-fe11-1a99c19d82c2"
      },
      "execution_count": 19,
      "outputs": [
        {
          "output_type": "execute_result",
          "data": {
            "text/plain": [
              "(1934, 30, 8)"
            ]
          },
          "metadata": {},
          "execution_count": 19
        }
      ]
    },
    {
      "cell_type": "code",
      "source": [
        "y_train.shape"
      ],
      "metadata": {
        "colab": {
          "base_uri": "https://localhost:8080/"
        },
        "id": "_hrF7iZetp1u",
        "outputId": "06e06824-e790-417d-f203-3357682bc227"
      },
      "execution_count": 20,
      "outputs": [
        {
          "output_type": "execute_result",
          "data": {
            "text/plain": [
              "(1934, 1)"
            ]
          },
          "metadata": {},
          "execution_count": 20
        }
      ]
    },
    {
      "cell_type": "code",
      "source": [
        "from keras.models import Sequential\n",
        "from keras.layers import LSTM\n",
        "from keras.layers import Dropout\n",
        "from keras.layers import Dense\n",
        "from keras.layers import TimeDistributed\n",
        "\n",
        "import tensorflow as tf\n",
        "import keras\n",
        "from keras import optimizers\n",
        "from keras.callbacks import History\n",
        "from keras.models import Model\n",
        "from keras.layers import Dense, Dropout, LSTM, Input, Activation, concatenate\n",
        "import numpy as np\n",
        "#tf.random.set_seed(20)\n",
        "np.random.seed(10)\n",
        "\n",
        "lstm_input = Input(shape=(backandles, 8), name='lstm_input')\n",
        "inputs = LSTM(150, name='first_layer')(lstm_input)\n",
        "inputs = Dense(1, name='dense_layer')(inputs)\n",
        "output = Activation('linear', name='output')(inputs)\n",
        "model = Model(inputs=lstm_input, outputs=output)\n",
        "adam = optimizers.Adam()\n",
        "model.compile(optimizer=adam, loss='mse')\n",
        "model.fit(x=X_train, y=y_train, batch_size=15, epochs=30, shuffle=True, validation_split = 0.1)"
      ],
      "metadata": {
        "colab": {
          "base_uri": "https://localhost:8080/"
        },
        "id": "rrNUa6hFtA-w",
        "outputId": "1cdaf39a-4ee6-439c-ad5d-adfcaccf7b3b"
      },
      "execution_count": 21,
      "outputs": [
        {
          "output_type": "stream",
          "name": "stdout",
          "text": [
            "Epoch 1/30\n",
            "116/116 [==============================] - 8s 43ms/step - loss: 0.0053 - val_loss: 4.5692e-04\n",
            "Epoch 2/30\n",
            "116/116 [==============================] - 3s 28ms/step - loss: 3.6759e-04 - val_loss: 3.5169e-04\n",
            "Epoch 3/30\n",
            "116/116 [==============================] - 3s 28ms/step - loss: 3.0154e-04 - val_loss: 2.8118e-04\n",
            "Epoch 4/30\n",
            "116/116 [==============================] - 5s 43ms/step - loss: 2.9221e-04 - val_loss: 2.4492e-04\n",
            "Epoch 5/30\n",
            "116/116 [==============================] - 3s 28ms/step - loss: 2.6042e-04 - val_loss: 2.3947e-04\n",
            "Epoch 6/30\n",
            "116/116 [==============================] - 3s 28ms/step - loss: 2.7459e-04 - val_loss: 2.2705e-04\n",
            "Epoch 7/30\n",
            "116/116 [==============================] - 4s 30ms/step - loss: 2.3508e-04 - val_loss: 2.2712e-04\n",
            "Epoch 8/30\n",
            "116/116 [==============================] - 5s 44ms/step - loss: 2.2473e-04 - val_loss: 2.3886e-04\n",
            "Epoch 9/30\n",
            "116/116 [==============================] - 3s 29ms/step - loss: 2.1038e-04 - val_loss: 2.0785e-04\n",
            "Epoch 10/30\n",
            "116/116 [==============================] - 3s 29ms/step - loss: 2.4247e-04 - val_loss: 2.4345e-04\n",
            "Epoch 11/30\n",
            "116/116 [==============================] - 5s 43ms/step - loss: 2.2743e-04 - val_loss: 2.1671e-04\n",
            "Epoch 12/30\n",
            "116/116 [==============================] - 3s 29ms/step - loss: 2.1541e-04 - val_loss: 4.3204e-04\n",
            "Epoch 13/30\n",
            "116/116 [==============================] - 3s 28ms/step - loss: 2.2890e-04 - val_loss: 2.0294e-04\n",
            "Epoch 14/30\n",
            "116/116 [==============================] - 3s 28ms/step - loss: 3.4357e-04 - val_loss: 2.3625e-04\n",
            "Epoch 15/30\n",
            "116/116 [==============================] - 5s 44ms/step - loss: 2.5998e-04 - val_loss: 2.6639e-04\n",
            "Epoch 16/30\n",
            "116/116 [==============================] - 3s 29ms/step - loss: 2.2454e-04 - val_loss: 1.9583e-04\n",
            "Epoch 17/30\n",
            "116/116 [==============================] - 3s 29ms/step - loss: 2.1492e-04 - val_loss: 2.7583e-04\n",
            "Epoch 18/30\n",
            "116/116 [==============================] - 4s 36ms/step - loss: 2.1769e-04 - val_loss: 1.8151e-04\n",
            "Epoch 19/30\n",
            "116/116 [==============================] - 4s 36ms/step - loss: 1.9445e-04 - val_loss: 2.5676e-04\n",
            "Epoch 20/30\n",
            "116/116 [==============================] - 3s 28ms/step - loss: 2.0089e-04 - val_loss: 1.9094e-04\n",
            "Epoch 21/30\n",
            "116/116 [==============================] - 3s 27ms/step - loss: 1.8514e-04 - val_loss: 2.0710e-04\n",
            "Epoch 22/30\n",
            "116/116 [==============================] - 5s 44ms/step - loss: 2.2311e-04 - val_loss: 2.3471e-04\n",
            "Epoch 23/30\n",
            "116/116 [==============================] - 3s 29ms/step - loss: 1.9700e-04 - val_loss: 1.9812e-04\n",
            "Epoch 24/30\n",
            "116/116 [==============================] - 3s 29ms/step - loss: 2.0632e-04 - val_loss: 1.7034e-04\n",
            "Epoch 25/30\n",
            "116/116 [==============================] - 4s 36ms/step - loss: 2.1818e-04 - val_loss: 2.5129e-04\n",
            "Epoch 26/30\n",
            "116/116 [==============================] - 5s 41ms/step - loss: 1.9431e-04 - val_loss: 1.8509e-04\n",
            "Epoch 27/30\n",
            "116/116 [==============================] - 3s 29ms/step - loss: 1.8544e-04 - val_loss: 2.3231e-04\n",
            "Epoch 28/30\n",
            "116/116 [==============================] - 4s 37ms/step - loss: 2.0560e-04 - val_loss: 1.8454e-04\n",
            "Epoch 29/30\n",
            "116/116 [==============================] - 5s 44ms/step - loss: 1.8965e-04 - val_loss: 1.8985e-04\n",
            "Epoch 30/30\n",
            "116/116 [==============================] - 3s 29ms/step - loss: 2.1363e-04 - val_loss: 2.1275e-04\n"
          ]
        },
        {
          "output_type": "execute_result",
          "data": {
            "text/plain": [
              "<keras.src.callbacks.History at 0x7c7fa8141720>"
            ]
          },
          "metadata": {},
          "execution_count": 21
        }
      ]
    },
    {
      "cell_type": "code",
      "source": [
        "y_pred = model.predict(X_test)\n",
        "for i in range(10):\n",
        "  print(y_pred[i], y_test[i])"
      ],
      "metadata": {
        "colab": {
          "base_uri": "https://localhost:8080/"
        },
        "id": "ZNyTEgmPtX2u",
        "outputId": "a9908bd4-affd-4588-ab3d-ea4eae35367d"
      },
      "execution_count": 24,
      "outputs": [
        {
          "output_type": "stream",
          "name": "stdout",
          "text": [
            "16/16 [==============================] - 1s 16ms/step\n",
            "[0.2555793] [0.2623659]\n",
            "[0.4159433] [0.42309177]\n",
            "[0.7745711] [0.73014966]\n",
            "[0.47402337] [0.46485166]\n",
            "[0.51697403] [0.50905752]\n",
            "[0.2923216] [0.30023206]\n",
            "[0.42949075] [0.43780966]\n",
            "[0.5135969] [0.51710636]\n",
            "[0.44079295] [0.4455501]\n",
            "[0.24952501] [0.26827189]\n"
          ]
        }
      ]
    },
    {
      "cell_type": "code",
      "source": [
        "plt.figure(figsize = (16,8))\n",
        "plt.plot(y_test[:30], color = 'red', label = 'Test')\n",
        "plt.plot(y_pred[:30], color = 'green', label = 'pred')\n",
        "plt.legend()\n",
        "plt.show()"
      ],
      "metadata": {
        "colab": {
          "base_uri": "https://localhost:8080/",
          "height": 607
        },
        "id": "VmAcBiuXu9Zf",
        "outputId": "11dd8eb3-9a79-4338-cb26-f53f43d2c8ab"
      },
      "execution_count": 29,
      "outputs": [
        {
          "output_type": "display_data",
          "data": {
            "text/plain": [
              "<Figure size 1600x800 with 1 Axes>"
            ],
            "image/png": "[encoded data removed]"
          },
          "metadata": {}
        }
      ]
    },
    {
      "cell_type": "code",
      "source": [],
      "metadata": {
        "id": "R_j16EtgvYxW"
      },
      "execution_count": null,
      "outputs": []
    }
  ]
}